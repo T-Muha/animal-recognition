{
 "cells": [
  {
   "cell_type": "code",
   "execution_count": 2,
   "metadata": {},
   "outputs": [],
   "source": [
    "import os\n",
    "span_to_eng = {'cane': 'dog', 'cavallo': 'horse', 'elefante': 'elephant', 'farfalla': 'butterfly', 'gallina': 'chicken', 'gatto': 'cat', 'mucca': 'cow', 'pecora': 'sheep', 'ragno': 'spider', 'scoiattolo': 'squirrel'}\n",
    "eng_to_span = {value: key for key, value in span_to_eng.items()}"
   ]
  },
  {
   "cell_type": "code",
   "execution_count": 2,
   "metadata": {},
   "outputs": [
    {
     "name": "stdout",
     "output_type": "stream",
     "text": [
      "Translating Spanish to English:\n",
      "           cane --> dog\n",
      "           cavallo --> horse\n",
      "           elefante --> elephant\n",
      "           farfalla --> butterfly\n",
      "           gallina --> chicken\n",
      "           gatto --> cat\n",
      "           mucca --> cow\n",
      "           pecora --> sheep\n",
      "           ragno --> spider\n",
      "           scoiattolo --> squirrel\n"
     ]
    }
   ],
   "source": [
    "# Translate\n",
    "curr_lang = 'Spanish' if 'cane' in os.listdir() else 'English'\n",
    "print('Translating', curr_lang, 'to', 'English:' if curr_lang == 'Spanish' else 'Spanish:')\n",
    "for animal_dir in os.listdir():\n",
    "    if '.' not in animal_dir:\n",
    "        translated = span_to_eng[animal_dir] if curr_lang == 'Spanish' else eng_to_span[animal_dir]\n",
    "        os.rename(animal_dir, translated)\n",
    "        print('          ', animal_dir, '-->', translated)"
   ]
  },
  {
   "cell_type": "code",
   "execution_count": 29,
   "metadata": {},
   "outputs": [],
   "source": [
    "# Rename images to image number\n",
    "# If name collision occurs, rename the original to get it out of the way\n",
    "for animal in os.listdir():\n",
    "    if '.' not in animal:\n",
    "        images = os.listdir(animal)\n",
    "        img_names = [img.split('.')[0] for img in images]\n",
    "        dir = animal + '/'\n",
    "        for i, img in enumerate(images):\n",
    "            # If name collision, rename all collisions\n",
    "            if str(i) in img_names[i+1:]:\n",
    "                collision_indices = [j+i+1 for j, name in enumerate(img_names[i+1:]) if name == str(i)]\n",
    "                for index in collision_indices:\n",
    "                    new_name = 'a' + str(index) + images[index]\n",
    "                    os.rename(dir+images[index], dir + new_name)\n",
    "                    images[index] = new_name\n",
    "            # Now file can be renamed\n",
    "            extension = img.split('.')[1]\n",
    "            os.rename(dir + img, dir + str(i) + '.' + extension)"
   ]
  },
  {
   "cell_type": "code",
   "execution_count": 44,
   "metadata": {},
   "outputs": [
    {
     "name": "stdout",
     "output_type": "stream",
     "text": [
      "Image names are correct\n"
     ]
    }
   ],
   "source": [
    "# Check that rename was successful\n",
    "for animal in os.listdir():\n",
    "    if '.' not in animal:\n",
    "        images = sorted(os.listdir(animal))\n",
    "        img_names = [img.split('.')[0] for img in images]\n",
    "        all_names = [i for i in range(len(img_names))]\n",
    "        for img in img_names:\n",
    "            try:\n",
    "                all_names.remove(int(img))\n",
    "            except:\n",
    "                print()\n",
    "        if len(all_names) > 0:\n",
    "            raise ValueError('Image names not correct')\n",
    "print('Image names are correct')"
   ]
  },
  {
   "cell_type": "code",
   "execution_count": 3,
   "metadata": {},
   "outputs": [
    {
     "data": {
      "text/plain": [
       "{'jpg': 1919, 'jpeg': 24209, 'png': 51}"
      ]
     },
     "execution_count": 3,
     "metadata": {},
     "output_type": "execute_result"
    }
   ],
   "source": [
    "# Get count of each file format\n",
    "extension_count = {}\n",
    "for animal in os.listdir():\n",
    "    if '.' not in animal:\n",
    "        for i, img in enumerate(os.listdir(animal)):\n",
    "            extension = img.split('.')[1]\n",
    "            if not extension in extension_count.keys():\n",
    "                extension_count[extension] = 0\n",
    "            extension_count[extension] += 1\n",
    "extension_count"
   ]
  },
  {
   "cell_type": "code",
   "execution_count": null,
   "metadata": {},
   "outputs": [],
   "source": []
  }
 ],
 "metadata": {
  "interpreter": {
   "hash": "7c4aa4b2e02a6d43c2625d1b5129f58cd008eb6e577ae44d6ed279337b97644e"
  },
  "kernelspec": {
   "display_name": "Python 3.7.2 64-bit",
   "language": "python",
   "name": "python3"
  },
  "language_info": {
   "codemirror_mode": {
    "name": "ipython",
    "version": 3
   },
   "file_extension": ".py",
   "mimetype": "text/x-python",
   "name": "python",
   "nbconvert_exporter": "python",
   "pygments_lexer": "ipython3",
   "version": "3.7.2"
  },
  "orig_nbformat": 4
 },
 "nbformat": 4,
 "nbformat_minor": 2
}
